{
 "cells": [
  {
   "cell_type": "markdown",
   "metadata": {
    "deletable": true,
    "editable": true
   },
   "source": [
    "## Build RFC based on all the other protein"
   ]
  },
  {
   "cell_type": "code",
   "execution_count": 42,
   "metadata": {
    "collapsed": true,
    "deletable": true,
    "editable": true
   },
   "outputs": [],
   "source": [
    "import os\n",
    "import pandas as pd\n",
    "obs_files = [f for f in '../data/sub1/']\n",
    "ground_truth_data = pd.read_csv('../data/sub1/data_true.txt', sep='\\t')"
   ]
  },
  {
   "cell_type": "code",
   "execution_count": 87,
   "metadata": {
    "collapsed": false,
    "deletable": true,
    "editable": true
   },
   "outputs": [],
   "source": [
    "genes = ground_truth_data['Gene_ID'].values\n",
    "by_genes = ground_truth_data.set_index('Gene_ID').T\n",
    "gene = genes[0]\n",
    "y = by_genes[gene].as_matrix()\n",
    "ycl = by_genes[gene].apply(lambda x: int(x > 0)).as_matrix()\n",
    "X = by_genes.drop([gene], axis=1).as_matrix()"
   ]
  },
  {
   "cell_type": "markdown",
   "metadata": {},
   "source": [
    "# Classifying low (y = 0) vs. normal (y = 1) with Balanced DataSet"
   ]
  },
  {
   "cell_type": "code",
   "execution_count": 120,
   "metadata": {
    "collapsed": false,
    "deletable": true,
    "editable": true
   },
   "outputs": [
    {
     "name": "stderr",
     "output_type": "stream",
     "text": [
      "/Users/trimchala/miniconda/envs/synapse-env/lib/python3.5/site-packages/sklearn/utils/deprecation.py:70: DeprecationWarning: Function transform is deprecated; Support to use estimators as feature selectors will be removed in version 0.19. Use SelectFromModel instead.\n",
      "  warnings.warn(msg, category=DeprecationWarning)\n"
     ]
    }
   ],
   "source": [
    "def rfc_with_smote(X, ycl, n_estimators=32, min_samples_leaf=5, max_depth=3):\n",
    "    from sklearn.ensemble import RandomForestClassifier, RandomForestRegressor\n",
    "    from sklearn.model_selection import KFold, cross_val_score\n",
    "    from sklearn.model_selection import train_test_split\n",
    "    from imblearn.combine import SMOTETomek\n",
    "    sm = SMOTETomek()\n",
    "    X_smt, y_smt = sm.fit_sample(X, ycl)\n",
    "    X_train, X_test, y_train, y_test = train_test_split(X_smt, y_smt, test_size=0.20,\n",
    "                                                        random_state=42)\n",
    "    ycl_train = (y_train > 0).astype(int)\n",
    "    ycl_test = (y_test > 0).astype(int)\n",
    "\n",
    "    rfc = RandomForestClassifier(n_estimators=n_estimators, min_samples_leaf=min_samples_leaf, max_depth=max_depth)\n",
    "    rfc.fit_transform(X_train, ycl_train)\n",
    "\n",
    "    pred = pd.DataFrame(rfc.predict_proba(X_test), columns=['Prob_low', 'Prob_normal'])\n",
    "    test_prediction_df = pd.concat([\n",
    "        pd.DataFrame(ycl_test,columns=['grount_truth_class']), \n",
    "        pred], axis=1\n",
    "    )\n",
    "    \n",
    "    return rfc, test_prediction_df\n",
    "\n",
    "gene = genes[0]\n",
    "y = by_genes[gene].as_matrix()\n",
    "ycl = by_genes[gene].apply(lambda x: int(x > 0)).as_matrix()\n",
    "X = by_genes.drop([gene], axis=1).as_matrix()\n",
    "\n",
    "model, prediction = rfc_with_smote(X, ycl)"
   ]
  },
  {
   "cell_type": "code",
   "execution_count": 139,
   "metadata": {
    "collapsed": false
   },
   "outputs": [],
   "source": [
    "from sklearn.metrics import precision_recall_fscore_support\n",
    "threshold = 0.5\n",
    "y_pred = prediction['Prob_normal'].apply(lambda x: x > threshold)\n",
    "precision, recall, f1, support = precision_recall_fscore_support(ycl_test, y_pred)"
   ]
  },
  {
   "cell_type": "code",
   "execution_count": 140,
   "metadata": {
    "collapsed": false,
    "deletable": true,
    "editable": true
   },
   "outputs": [
    {
     "name": "stdout",
     "output_type": "stream",
     "text": [
      "[ 1.          0.85714286] [ 0.875  1.   ] [ 0.93333333  0.92307692] [16 12]\n"
     ]
    }
   ],
   "source": [
    "print(precision, recall, f1, support)"
   ]
  },
  {
   "cell_type": "code",
   "execution_count": null,
   "metadata": {
    "collapsed": false,
    "deletable": true,
    "editable": true
   },
   "outputs": [],
   "source": []
  },
  {
   "cell_type": "code",
   "execution_count": null,
   "metadata": {
    "collapsed": false,
    "deletable": true,
    "editable": true
   },
   "outputs": [],
   "source": []
  },
  {
   "cell_type": "code",
   "execution_count": null,
   "metadata": {
    "collapsed": false,
    "deletable": true,
    "editable": true
   },
   "outputs": [],
   "source": []
  },
  {
   "cell_type": "code",
   "execution_count": null,
   "metadata": {
    "collapsed": true
   },
   "outputs": [],
   "source": []
  }
 ],
 "metadata": {
  "kernelspec": {
   "display_name": "Python 3",
   "language": "python",
   "name": "python3"
  },
  "language_info": {
   "codemirror_mode": {
    "name": "ipython",
    "version": 3
   },
   "file_extension": ".py",
   "mimetype": "text/x-python",
   "name": "python",
   "nbconvert_exporter": "python",
   "pygments_lexer": "ipython3",
   "version": "3.5.3"
  }
 },
 "nbformat": 4,
 "nbformat_minor": 2
}
