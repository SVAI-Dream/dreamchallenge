{
 "cells": [
  {
   "cell_type": "markdown",
   "metadata": {
    "deletable": true,
    "editable": true
   },
   "source": [
    "## Build RFC based on all the other protein"
   ]
  },
  {
   "cell_type": "code",
   "execution_count": 1,
   "metadata": {
    "collapsed": true,
    "deletable": true,
    "editable": true
   },
   "outputs": [],
   "source": [
    "import os\n",
    "import pandas as pd\n",
    "obs_files = [f for f in '../data/sub1/']\n",
    "ground_truth_data = pd.read_csv('../data/sub1/data_true.txt', sep='\\t')"
   ]
  },
  {
   "cell_type": "code",
   "execution_count": 2,
   "metadata": {
    "collapsed": false,
    "deletable": true,
    "editable": true
   },
   "outputs": [],
   "source": [
    "genes = ground_truth_data['Gene_ID'].values\n",
    "by_genes = ground_truth_data.set_index('Gene_ID').T\n",
    "gene = genes[0]\n",
    "y = by_genes[gene].as_matrix()\n",
    "ycl = by_genes[gene].apply(lambda x: int(x > 0)).as_matrix()\n",
    "X = by_genes.drop([gene], axis=1).as_matrix()"
   ]
  },
  {
   "cell_type": "markdown",
   "metadata": {},
   "source": [
    "# low (y = 0) vs. normal (y = 1) Classification with RFC + SMOTETomek"
   ]
  },
  {
   "cell_type": "code",
   "execution_count": 27,
   "metadata": {
    "collapsed": false,
    "deletable": true,
    "editable": true
   },
   "outputs": [],
   "source": [
    "from sklearn.ensemble import RandomForestClassifier, RandomForestRegressor\n",
    "from sklearn.model_selection import KFold, cross_val_score, train_test_split\n",
    "from sklearn.feature_selection import SelectFromModel\n",
    "from sklearn.metrics import precision_recall_fscore_support\n",
    "from imblearn.combine import SMOTETomek\n",
    "import pickle, gzip\n",
    "import warnings\n",
    "warnings.filterwarnings(\"ignore\", category=DeprecationWarning)\n",
    "\n",
    "def rfc_with_smote(X, ycl, n_estimators=32, min_samples_leaf=5, max_depth=3):\n",
    "    sm = SMOTETomek()\n",
    "    X_smt, y_smt = sm.fit_sample(X, ycl)\n",
    "    X_train, X_test, y_train, y_test = train_test_split(X_smt, y_smt, test_size=0.20,\n",
    "                                                        random_state=42)\n",
    "    ycl_train = (y_train > 0).astype(int)\n",
    "    ycl_test = (y_test > 0).astype(int)\n",
    "\n",
    "    sfm = SelectFromModel(RandomForestClassifier(\n",
    "        n_estimators=n_estimators, \n",
    "        min_samples_leaf=min_samples_leaf, \n",
    "        max_depth=max_depth\n",
    "    ))\n",
    "    sfm.fit(X_train, ycl_train)\n",
    "    X_train = sfm.transform(X_train)\n",
    "    X_test = sfm.transform(X_test)\n",
    "    \n",
    "    rfc = RandomForestClassifier(\n",
    "        n_estimators=n_estimators, \n",
    "        min_samples_leaf=min_samples_leaf, \n",
    "        max_depth=max_depth\n",
    "    )\n",
    "    rfc.fit_transform(X_train, ycl_train)\n",
    "    precision, recall, f1, support = evaluate_model(rfc, X_test, ycl_test, threshold=0.5)\n",
    "        \n",
    "    return rfc, precision, recall, f1, support\n",
    "\n",
    "def save_model(model, model_name, model_output_path='../model/sub1/RFC/'):\n",
    "    if not os.path.isdir(model_output_path):\n",
    "        os.makedirs(model_output_path)\n",
    "\n",
    "    with gzip.open(os.path.join(model_output_path, model_name + '.pkl.gz'), 'wb') as fm: \n",
    "        pickle.dump(model, fm)\n",
    "        \n",
    "def evaluate_model(model, X_test, y_test, threshold=0.5):\n",
    "    pred = pd.DataFrame(model.predict_proba(X_test), columns=['Prob_low', 'Prob_normal'])\n",
    "    pred_df = pd.concat([\n",
    "        pd.DataFrame(y_test, columns=['grount_truth_class']), \n",
    "        pred], axis=1\n",
    "    )\n",
    "    y_pred = pred_df['Prob_normal'].apply(lambda x: x > threshold)\n",
    "    precision, recall, f1, support = precision_recall_fscore_support(y_test, y_pred)\n",
    "    return precision, recall, f1, support"
   ]
  },
  {
   "cell_type": "code",
   "execution_count": 30,
   "metadata": {
    "collapsed": false
   },
   "outputs": [],
   "source": [
    "# Train RFC model gene by gene\n",
    "from collections import namedtuple\n",
    "results_cols= ['model_name', 'precision', 'recall','f1','support']\n",
    "RFCResult = namedtuple('RFCResult', ' '.join(results_cols))\n",
    "should_save_model=False\n",
    "should_save_results=True\n",
    "RFCResults = []\n",
    "\n",
    "for gene in genes: \n",
    "    model_name = 'RFC_{gene_name}'.format(gene_name=gene)\n",
    "    print(\"Training RFC for gene: {}\".format(model_name))\n",
    "    y = by_genes[gene].as_matrix()\n",
    "    ycl = by_genes[gene].apply(lambda x: int(x > 0)).as_matrix()\n",
    "    X = by_genes.drop([gene], axis=1).as_matrix()\n",
    "\n",
    "    model, precision, recall, f1, support = rfc_with_smote(X, ycl)\n",
    "    RFCResults.append(RFCResult(\n",
    "        model_name=model_name,\n",
    "        precision=precision,\n",
    "        recall=recall,\n",
    "        f1=f1,\n",
    "        support=support\n",
    "    ))\n",
    "    \n",
    "    if should_save_model: \n",
    "        save_model(model, model_name)\n",
    "\n",
    "if should_save_results: \n",
    "    result_output_path = '../data/sub1/RFC/summary/'\n",
    "    if not os.path.isdir(result_output_path):\n",
    "        os.makedirs(result_output_path)\n",
    "    pd.DataFrame.from_records(RFCResults, columns=results_cols).to_csv(\n",
    "        os.path.join(result_output_path, 'model_performances.csv')\n",
    "        , index=False)"
   ]
  },
  {
   "cell_type": "code",
   "execution_count": 29,
   "metadata": {
    "collapsed": false,
    "deletable": true,
    "editable": true
   },
   "outputs": [
    {
     "data": {
      "text/plain": [
       "'Protein_6'"
      ]
     },
     "execution_count": 29,
     "metadata": {},
     "output_type": "execute_result"
    }
   ],
   "source": [
    "gene"
   ]
  },
  {
   "cell_type": "code",
   "execution_count": null,
   "metadata": {
    "collapsed": false,
    "deletable": true,
    "editable": true
   },
   "outputs": [],
   "source": []
  },
  {
   "cell_type": "code",
   "execution_count": null,
   "metadata": {
    "collapsed": false,
    "deletable": true,
    "editable": true
   },
   "outputs": [],
   "source": []
  },
  {
   "cell_type": "code",
   "execution_count": null,
   "metadata": {
    "collapsed": false,
    "deletable": true,
    "editable": true
   },
   "outputs": [],
   "source": []
  },
  {
   "cell_type": "code",
   "execution_count": null,
   "metadata": {
    "collapsed": true
   },
   "outputs": [],
   "source": []
  }
 ],
 "metadata": {
  "kernelspec": {
   "display_name": "Python 3",
   "language": "python",
   "name": "python3"
  },
  "language_info": {
   "codemirror_mode": {
    "name": "ipython",
    "version": 3
   },
   "file_extension": ".py",
   "mimetype": "text/x-python",
   "name": "python",
   "nbconvert_exporter": "python",
   "pygments_lexer": "ipython3",
   "version": "3.5.3"
  }
 },
 "nbformat": 4,
 "nbformat_minor": 2
}
